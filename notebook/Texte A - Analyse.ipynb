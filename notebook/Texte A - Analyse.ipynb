{
 "cells": [
  {
   "cell_type": "markdown",
   "metadata": {},
   "source": [
    "<center> <h1 style=\"color: #D7002B\"> <FONT face=\"Times New Roman\" size=\"10\"> <u> Rapport Cryptographie - Texte A </u> </FONT><center>"
   ]
  },
  {
   "cell_type": "markdown",
   "metadata": {},
   "source": [
    "#### Encadré par Pierre Vincent KOSELEFF"
   ]
  },
  {
   "cell_type": "markdown",
   "metadata": {},
   "source": [
    "##### Réalisé par : Amine ELKARI - Mohamed-Amine CHAFIK -Zakarya JOUHAFA"
   ]
  },
  {
   "cell_type": "markdown",
   "metadata": {},
   "source": [
    " <a id=\"top\"></a> <br>\n",
    "## Notebook  Content\n",
    "1. [Introduction](#1)\n",
    "2. [Synthèse transversale des sections](#2)\n",
    "2. [Preuves lemmes et theorèmes](#3)\n",
    "3. [Applications Numériques et développement](#4)\n",
    "2. [Complexité des opérations des sections 2 et 3](#5)"
   ]
  },
  {
   "cell_type": "markdown",
   "metadata": {},
   "source": [
    "<a id=\"1\"></a> <br>\n",
    "<left> <h1 style=\"color: #1E3EC6\"> <FONT face=\"Times New Roman\" size=\"5\"> <u> Introduction </u> </FONT><left>"
   ]
  },
  {
   "cell_type": "markdown",
   "metadata": {},
   "source": [
    "Il y a à peine quelques années, le problème de la sécurité des transmissions de données semblait être l’apanage des seuls militaires. Ce n’est plus le cas avec l’essor des techniques numériques dans le commerce (Internet, les cartes de crédit, les télécommunications, etc.)\n",
    "\n",
    "Les méthodes empiriques traditionnelles se sont révélées trop fragiles ; elles reposaient souvent sur le schéma suivant : on choisit un livre, une fois pour toutes, et on considère la permutation des vingt-six lettres de l’alphabet définie par les 26 premières lettres de ce livre.\n",
    "\n",
    "Le codage d’un texte consiste alors à appliquer cette permutation $\\sigma$ au texte à coder, et le décodage à appliquer la permutation réciproque $\\sigma^{-1}$ au texte à décoder.\n",
    "\n",
    "En numérique, si par exemple le message à transmettre est codé sur 64 bits, on peut employer cette technique en considérant une permutation sigma in $S_{64}$.\n",
    "C’est ce genre d’idées qui est sous-jacent aux procédés DES, dû à IBM, et qui est encore le plus utilisé en informatique.\n",
    "\n",
    "Le talon d’Achile de ce genre de crypto système est le suivant : si une personne sait coder, il aussi décoder, car il est très facile de trouver la permutation réciproque d’une permutation sur 26, 64, 128 ou même 256 lettres.\n",
    "C’est pourquoi l’apparition de crypto systèmes dits à clés publique, à la fin du dernier siècle.\n",
    "\n",
    "\n",
    "\n"
   ]
  },
  {
   "cell_type": "markdown",
   "metadata": {},
   "source": [
    "##### Cryptographie à clef secrète"
   ]
  },
  {
   "cell_type": "markdown",
   "metadata": {},
   "source": [
    "Le principe de la cryptographie à clef secrète est probablement le principe le plus naturel auquel on pense lorsqu’on envisage de cacher une information : l’émetteur et le récepteur partagent un secret commun qui permet de chiffrer et de déchiffrer un texte. Les opérations pour le codage et pour le décodage sont alors essentiellement les mêmes, d’où le qualificatif « symétrique » pour de tels cryptosystèmes."
   ]
  },
  {
   "cell_type": "markdown",
   "metadata": {},
   "source": [
    "##### Cryptographie à clef publique\n"
   ]
  },
  {
   "cell_type": "markdown",
   "metadata": {},
   "source": [
    "L’idée de la cryptographie à clef publique est née dans les années 1970. La personne qui va recevoir des informations publie dans un annuaire une clef qui permet de chiffrer les messages. Seule une clef privée détenue uniquement par le récepteur doit rendre possible le déchiffrement. Dans ce cas, les opérations de codages et de décodages ne sont pas de même nature, d’où le qualificatif d’« asymétrique »."
   ]
  },
  {
   "cell_type": "markdown",
   "metadata": {},
   "source": [
    "##### Facile, difficile"
   ]
  },
  {
   "cell_type": "markdown",
   "metadata": {},
   "source": [
    "Un cryptosystème à clef publique s’appuie sur une fonction dite à sens unique. Essentiellement, il s’agit d’une fonction $f$ telle que :\n",
    "\n",
    "il est facile d’évaluer $\\ f(x)$ lorsqu’on connaît $\\ x$ dans l’espace de définition de $f$ ;\n",
    "\n",
    "connaissant un $\\ y$ dans l’espace d’arrivée, il est difficile de trouver un $\\ x$ tel que $\\ f(x)=y$.\n",
    "\n",
    "Comme mentionné précédemment, pour le cryptosystème RSA, la fonction à sens unique consiste simplement en la multiplication des entiers."
   ]
  },
  {
   "cell_type": "markdown",
   "metadata": {},
   "source": [
    "##### Logarithme discret"
   ]
  },
  {
   "cell_type": "markdown",
   "metadata": {},
   "source": [
    "Le logarithme discret est un objet mathématique utilisé en cryptologie. C'est l'analogue du logarithme réel qui est la réciproque de l'exponentielle, mais dans un groupe cyclique G fini.\n",
    "\n",
    "Le logarithme discret est utilisé pour la cryptographie à clé publique, typiquement dans l'échange de clés Diffie-Hellman et le chiffrement El Gamal. La raison est que, pour un certain nombre de groupes, on ne connait pas d'algorithme efficace pour le calcul du logarithme discret, alors que celui de la réciproque, l'exponentiation, se réalise en un nombre de multiplications logarithmique en la taille de l'argument (voir exponentiation rapide)"
   ]
  },
  {
   "cell_type": "markdown",
   "metadata": {},
   "source": [
    "##### Définition"
   ]
  },
  {
   "cell_type": "markdown",
   "metadata": {},
   "source": [
    "On considère un groupe cyclique G fini d'ordre n (dont la loi est notée multiplicativement) et un générateur b de G. Alors chaque élément x de G peut être écrit sous la forme $x = b_k$ pour certains entiers k ; de plus, deux quelconques de ces entiers sont nécessairement congrus modulo n. Le logarithme discret peut être défini comme le plus petit entier naturel k vérifiant cette propriété (il en existe un seul tel que $0 ≤ k < n$). C'est donc une application réciproque de l'exponentiation $k ↦ b_k$."
   ]
  },
  {
   "cell_type": "markdown",
   "metadata": {},
   "source": [
    "<a id=\"2\"></a> <br>\n",
    "<left> <h1 style=\"color: #1E3EC6\"> <FONT face=\"Times New Roman\" size=\"5\"> <u> Resumé - Texte A </u> </FONT><left>"
   ]
  },
  {
   "cell_type": "markdown",
   "metadata": {},
   "source": [
    "#### Section 1"
   ]
  },
  {
   "cell_type": "markdown",
   "metadata": {},
   "source": [
    "Le texte propose d’étudier un protocole de mise en commun de secrets utilisant des matrices à corps fini. Le fonctionnement de cette approche se base sur la difficulté de calculer mes images réciproques de quelques éléments dans un temps raisonnable.\n",
    "L’énoncé du problème est le suivant :\n",
    "Étant donné que l’on se mette d’accord sur un groupe G et un élément $\\mu$ de $G$, et que $A$ et $B$ échangent leurs contribution au secret $s_A=\\mu^a$ et $s_B=\\mu^b$,leur secret commun et dont disposent A et B uniquement est $(\\mu^a)^b = (\\mu^b)^a = \\mu^{ab}$.\n",
    "Le but du texte est de trouver une solution du problème dit : \"Logarithme discret\" et proposer des recommandations pour les choix de $a$ et $b$ afin d'éviter un espionnage.\n"
   ]
  },
  {
   "cell_type": "markdown",
   "metadata": {},
   "source": [
    "#### Section 2"
   ]
  },
  {
   "cell_type": "markdown",
   "metadata": {},
   "source": [
    "Cette section,dont les lemmes et le theorème vont être démontrés dans notre mémoire,à pour finalité d'éviter un brute forcing du secret commun.Par consequent,A et B se doivent de : \n",
    "\n",
    "- choisir $a$ et $b$ tq $a,b \\ > deg(\\Pi_M)$ \n",
    "\n",
    "- choisir $\\Pi_A ,\\Pi_B$ premiers à $\\Pi_M$"
   ]
  },
  {
   "cell_type": "markdown",
   "metadata": {},
   "source": [
    "#### Section 3"
   ]
  },
  {
   "cell_type": "markdown",
   "metadata": {},
   "source": [
    "cette section s'intéresse à l'avantage de résoudre le problème du logarithme discret via un logarithme de reduction  dans le calcul matriciel. Le but étant de trouver $a$ telque $M^a = A$. Nous adoptons la démarche suivante en ayant pour but de determiner $a$ $mod(ordre(M))$ en utilisant la proposition $1$.\n",
    "\n",
    "1- On essaie de trouverr un $\\lambda \\in Sp(M)$ associé au vecteur propre $V$. On peut donc trouver une base $N$ ayant pour premier vecteur $V$, telque :                                                    \n",
    "$\\ \\ \\ \\ \\ \\ M = NPN^{-1}$   \n",
    "\n",
    "avec $P = \n",
    "\\begin{pmatrix}\n",
    "\\lambda   \\\\\n",
    "\\vdots & J \\\\\n",
    "0   \n",
    "\\end{pmatrix}$   \n",
    "\n",
    "Ainsi $A = M^a = N \\begin{pmatrix}\n",
    "\\lambda^{a}   \\\\\n",
    "\\vdots & J^a \\\\\n",
    "0   \n",
    "\\end{pmatrix} N^{-1}$\n",
    "\n",
    "\n",
    "On retrouve directement $a$ $mod(ordre(\\lambda))$ $\\ \\ \\ \\ (1)$\n",
    "\n",
    "2- On prend $\\Pi_M$ le pôlynome minimal de $M$ et on choisit son facteur de multiplicité maximale $t$. Soit $\\lambda$ sa valeur propre associée à $v$, ainsi :\n",
    "\n",
    "$\\ \\ \\ \\ \\ \\ N^{-1}MN = \\begin{pmatrix} \n",
    "J & . \\\\\n",
    "0 & . \n",
    "\\end{pmatrix}$ \n",
    "\n",
    "$\\ \\ \\ \\ \\ \\ N^{-1}AN = \\begin{pmatrix} \n",
    "J^a & . \\\\\n",
    "0 & . \n",
    "\\end{pmatrix}$ \n",
    "\n",
    "Nous retrouvrons alors $a[p] = u$  $\\ \\ \\ \\ (2)$\n",
    "\n",
    "On sait de plus que :\n",
    "\n",
    "$\\ \\ \\ \\ \\ \\ a[ord(M)] = a[p] + pv$ \n",
    "\n",
    "$\\ \\ \\ \\ \\ \\ AM^{-u} = M^{a}M^{-u} = M^{a-u} = M^{a[ord(M) - a[ord(M) + pv } = (M^P)^{v}$ \n",
    "\n",
    "On retrouve en répétant ce procédé au max $[\\frac{ln(t)}{p}]$ fois.\n",
    "\n",
    "La valeur $a[p^\\tau]$ $\\ \\ \\ \\ (3)$\n",
    "\n",
    "La proposition $(1)$ nous livre par ricochet $a[ord(M)]$"
   ]
  },
  {
   "cell_type": "markdown",
   "metadata": {},
   "source": [
    "#### Section 4"
   ]
  },
  {
   "cell_type": "markdown",
   "metadata": {},
   "source": [
    "Cette section est une extension de la section 3 qui se focalise sur un sous-ensemble de matrices particulieres qui est celui des inversibles définis par :\n",
    "\n",
    "$M(a_0, \\cdots , a_{n-1}) = \\begin{pmatrix}\n",
    "a_{0} & a_{1} & \\cdots & a_{n-1} \\\\\n",
    "a_{n-1} & a_{0} & \\cdots & a_{n-2} \\\\\n",
    "\\vdots  & \\vdots  & \\ddots & \\vdots  \\\\\n",
    "a_{1} & a_{2} & \\cdots & a_{0} \n",
    "\\end{pmatrix}$"
   ]
  },
  {
   "cell_type": "markdown",
   "metadata": {},
   "source": [
    "<a id=\"3\"></a> <br>\n",
    "<left> <h1 style=\"color: #1E3EC6\"> <FONT face=\"Times New Roman\" size=\"5\"> <u> Preuves </u> </FONT><left>"
   ]
  },
  {
   "cell_type": "markdown",
   "metadata": {},
   "source": [
    "#### Preuve $Lemme \\; 1$:"
   ]
  },
  {
   "cell_type": "markdown",
   "metadata": {},
   "source": [
    "\n",
    "Supposons que $a < deg (\\Pi_M )$ \n",
    "\n",
    "La division euclidienne de $X^a$ sur $\\Pi_M$ nous livre :\n",
    "$\\exists (Q,f) \\in$ $\\mathbb{R}$$[X]$ : $X^a = Q\\cdot\\Pi_M + f$ avec   $deg (f) < deg (\\Pi_M$)\n",
    "\n",
    "Distinguons deux cas:\n",
    "\n",
    "Si $Q=0$, alors : $X^a = f$. Ce qu'il faut démontrer\n",
    "    \n",
    "Si $Q\\ne 0$, alors :\n",
    "\n",
    "$deg (X^a)\\leqslant max(deg(Q) + deg (\\Pi_M) , deg(f))$\n",
    "\n",
    "or $deg(f) < deg(\\Pi_M)$\n",
    "\n",
    "donc $deg(f) < deg(\\Pi_M)+deg(Q) \\implies a = deg(Q) + deg(\\Pi_M) \\implies a-deg(\\Pi_M) = deg(Q)$\n",
    "\n",
    "or d'après l'hypothèse, on a : $a < deg(\\Pi_M)$\n",
    "\n",
    "donc $deg(Q)<0$ donc $Q = 0$\n",
    "\n",
    "ce qui est contradictoire avec notre hypothèse\n",
    "\n",
    "ainsi $Q=0$ et finalement $a<deg(\\Pi_M)$ $\\implies X^a = f$ "
   ]
  },
  {
   "cell_type": "markdown",
   "metadata": {},
   "source": [
    "#### Preuve $Lemme \\; 2$:"
   ]
  },
  {
   "cell_type": "markdown",
   "metadata": {},
   "source": [
    "Supposons que $\\Pi_B | \\Pi_M$\n",
    "\n",
    "On a $\\exists Q \\in \\mathbb{R}[X]$ : $X^a = Q \\cdot Q' \\cdot \\Pi_B +f$ \n",
    "\n",
    "En $B$, on a : $B^{a} = (Q\\cdot Q' \\cdot \\Pi_B)(B) + f(B) = f(B)$. Car $\\Pi_B(B) = 0$\n",
    "\n",
    "donc $ (M^b)^{a} = B^a = f(B) $\n",
    "\n",
    "d'où : $f(B) = M^{ab}$"
   ]
  },
  {
   "cell_type": "markdown",
   "metadata": {},
   "source": [
    "#### Preuve $Theorème \\; 1$:"
   ]
  },
  {
   "cell_type": "markdown",
   "metadata": {},
   "source": [
    "Soit $P_B = ppcm(\\Pi_M,\\Pi_B)$\n",
    "\n",
    "La division Euclidienne de $X^a$ par $P_B$ nous livre :\n",
    "$ \\exists ! (R,Q) \\in \\mathbb{R}^2[X] $ tq :\n",
    "$X^a = Q \\cdot P_B + R$ avec $deg(R)<deg(P_B)$\n",
    "\n",
    "En $M$ on a : \n",
    "$A = (Q \\cdot P_B)(M) + R(M) = R(M)$\n",
    "\n",
    "En $M^b = B$ on a :\n",
    "$M^{ab} = (Q \\cdot P_B)(B) + R(B) = R(B)$ \n",
    "\n",
    "Car $P_B = ppcm(\\Pi_M,\\Pi_B) \\implies P_B(M) = P_B(B) = 0$\n",
    "\n",
    "D'où l'existance et l'unicité de $g=R$\n",
    "\n",
    "En effet on a :\n",
    "\n",
    "$X^a = Q \\cdot \\Pi_M + f$ avec $\\; deg(f)<deg(\\Pi_M)$\n",
    "\n",
    "$X^a = Q'\\cdot P_B + g$ avec $\\; deg(g)<deg(P_B)$\n",
    "\n",
    "et $P_B = ppcm(\\Pi_M,\\Pi_B) \\implies \\Pi_M | P_B$\n",
    "\n",
    "donc $\\exists Q''$   tq   $X^a = Q'\\cdot Q'' \\cdot \\Pi_M + g = Q \\cdot \\Pi_M + f$\n",
    "\n",
    "Alors :\n",
    "$g = f + (Q - Q'\\cdot Q'')\\Pi_M$\n",
    "\n",
    "d'où $\\exists h = Q - Q'\\cdot Q''$ tq : $g = f + \\Pi_{M}h$\n",
    "\n",
    "Avec $deg(\\Pi_M h) = deg(g-f) \\le max(deg(g), deg(f))$\n",
    "\n",
    "Or $deg(g) < deg(P_B)$ et $deg(f) < deg(\\Pi_M) \\le deg(P_B)$, donc $max(deg(g), deg(f)) < deg(P_B)$\n",
    "\n",
    "C'est-à-dire $deg(h) + deg(\\Pi_M) < deg(P_B) \\implies deg(h) < deg(P_B) - deg(\\Pi_M)$."
   ]
  },
  {
   "cell_type": "markdown",
   "metadata": {},
   "source": [
    "<a id=\"4\"></a> <br>\n",
    "<left> <h1 style=\"color: #1E3EC6\"> <FONT face=\"Times New Roman\" size=\"5\"> <u> Applications numériques </u> </FONT><left>"
   ]
  },
  {
   "cell_type": "markdown",
   "metadata": {},
   "source": [
    "###  À l’aide des méthodes de la Section 2 peut-on calculer le secret commun lorsque $p = 29$ ?"
   ]
  },
  {
   "cell_type": "code",
   "execution_count": 3,
   "metadata": {},
   "outputs": [],
   "source": [
    "p=29; n=3\n",
    "Zp=Zmod(p)"
   ]
  },
  {
   "cell_type": "code",
   "execution_count": 4,
   "metadata": {},
   "outputs": [
    {
     "data": {
      "text/plain": [
       "Full MatrixSpace of 3 by 3 dense matrices over Ring of integers modulo 29"
      ]
     },
     "execution_count": 4,
     "metadata": {},
     "output_type": "execute_result"
    }
   ],
   "source": [
    "Mp=MatrixSpace(Zp,n,n);Mp"
   ]
  },
  {
   "cell_type": "code",
   "execution_count": 5,
   "metadata": {},
   "outputs": [
    {
     "name": "stdout",
     "output_type": "stream",
     "text": [
      "5\n",
      "-1\n",
      "(x^3 + x, x)\n"
     ]
    }
   ],
   "source": [
    "from sage.all import *\n",
    "R = ZZ['x']\n",
    "x = R.gen()\n",
    "f = x**2 - 1\n",
    "g = x**5\n",
    "print g.degree(x)\n",
    "h = f.mod(x**2 - 1)\n",
    "print h.degree(x)\n",
    "print g.quo_rem(f)"
   ]
  },
  {
   "cell_type": "code",
   "execution_count": 6,
   "metadata": {},
   "outputs": [
    {
     "data": {
      "text/plain": [
       "(\n",
       "[ 7  4 12]                         \n",
       "[13 19 10]                         \n",
       "[15  9 26], x^3 + 6*x^2 + 23*x + 27\n",
       ")"
      ]
     },
     "execution_count": 6,
     "metadata": {},
     "output_type": "execute_result"
    }
   ],
   "source": [
    "M = Mp.matrix([7,4,12,13,19,10,15,9,26])\n",
    "Pm=M.minimal_polynomial()\n",
    "M,Pm"
   ]
  },
  {
   "cell_type": "code",
   "execution_count": 7,
   "metadata": {
    "scrolled": true
   },
   "outputs": [
    {
     "data": {
      "text/plain": [
       "(\n",
       "[14  7  4]                         \n",
       "[ 9  3 17]                         \n",
       "[12  4  6], x^3 + 6*x^2 + 23*x + 27\n",
       ")"
      ]
     },
     "execution_count": 7,
     "metadata": {},
     "output_type": "execute_result"
    }
   ],
   "source": [
    "A = Mp.matrix([14,7,4,9,3,17,12,4,6])\n",
    "Pa=A.minimal_polynomial()\n",
    "A,Pa"
   ]
  },
  {
   "cell_type": "code",
   "execution_count": 8,
   "metadata": {},
   "outputs": [
    {
     "data": {
      "text/plain": [
       "(\n",
       "[ 8  6  4]                         \n",
       "[15 15 18]                         \n",
       "[21 26 23], x^3 + 12*x^2 + 7*x + 22\n",
       ")"
      ]
     },
     "execution_count": 8,
     "metadata": {},
     "output_type": "execute_result"
    }
   ],
   "source": [
    "B = Mp.matrix([8,6,4,15,15,18,21,26,23])\n",
    "Pb=B.minimal_polynomial()\n",
    "B,Pb"
   ]
  },
  {
   "cell_type": "markdown",
   "metadata": {},
   "source": [
    "### Test lemme 1 :"
   ]
  },
  {
   "cell_type": "code",
   "execution_count": 11,
   "metadata": {},
   "outputs": [
    {
     "name": "stdout",
     "output_type": "stream",
     "text": [
      "('a = ', 29)\n",
      " Lemme 1 non verifié\n"
     ]
    }
   ],
   "source": [
    "#Pour A :\n",
    "for i in range (0,30):\n",
    "    if M^i == A:\n",
    "        a =i\n",
    "        print('a = ',a)\n",
    "if a < Pm.degree():\n",
    "    print \" f = X^a\"\n",
    "else:\n",
    "    print \" Lemme 1 non verifié\""
   ]
  },
  {
   "cell_type": "code",
   "execution_count": 12,
   "metadata": {},
   "outputs": [
    {
     "name": "stdout",
     "output_type": "stream",
     "text": [
      "('b = ', 12)\n",
      " Lemme 1 non verifié\n"
     ]
    }
   ],
   "source": [
    "#Pour B :\n",
    "for i in range (0,30):\n",
    "    if M^i == B:\n",
    "        b =i\n",
    "        print('b = ', b)\n",
    "if b < Pm.degree():\n",
    "    print \" f = X^b\"\n",
    "else:\n",
    "    print \" Lemme 1 non verifié\""
   ]
  },
  {
   "cell_type": "code",
   "execution_count": 13,
   "metadata": {},
   "outputs": [
    {
     "data": {
      "text/plain": [
       "348"
      ]
     },
     "execution_count": 13,
     "metadata": {},
     "output_type": "execute_result"
    }
   ],
   "source": [
    "a_fois_b = a*b; a_fois_b"
   ]
  },
  {
   "cell_type": "markdown",
   "metadata": {},
   "source": [
    "### Test lemme 2 :\n"
   ]
  },
  {
   "cell_type": "code",
   "execution_count": 14,
   "metadata": {},
   "outputs": [
    {
     "name": "stdout",
     "output_type": "stream",
     "text": [
      " f(A) = M^ab\n"
     ]
    }
   ],
   "source": [
    "#Pour A :\n",
    "r = Pm%Pa\n",
    "if r==0:\n",
    "    print \" f(A) = M^ab\"\n",
    "else:\n",
    "    print \" Lemme 2 non verifié\" "
   ]
  },
  {
   "cell_type": "code",
   "execution_count": 15,
   "metadata": {},
   "outputs": [
    {
     "name": "stdout",
     "output_type": "stream",
     "text": [
      " Lemme 2 non verifié\n"
     ]
    }
   ],
   "source": [
    "#Pour B :\n",
    "r = Pm%Pb\n",
    "if r==0:\n",
    "    print \" f(B) = M^ab\"\n",
    "else:\n",
    "    print \" Lemme 2 non verifié\" "
   ]
  },
  {
   "cell_type": "code",
   "execution_count": 16,
   "metadata": {},
   "outputs": [
    {
     "data": {
      "text/plain": [
       "x^6 + 18*x^5 + 15*x^4 + 19*x^3 + 8*x^2 + 28*x + 14"
      ]
     },
     "execution_count": 16,
     "metadata": {},
     "output_type": "execute_result"
    }
   ],
   "source": [
    "ppb = lcm(Pm,Pb); ppb"
   ]
  },
  {
   "cell_type": "markdown",
   "metadata": {},
   "source": [
    "### Test théorème :\n",
    "\n"
   ]
  },
  {
   "cell_type": "markdown",
   "metadata": {},
   "source": [
    " Nous supposons maintenant que nous ne disposons pas de $\\ a$ et $\\ b$ et nous essaierons de trouver le polynome $\\ g$ telque $\\ A = g(M)$ et $\\ M^{ab} = g(B)$ qui est le message commun tant attendu (pour un espion)"
   ]
  },
  {
   "cell_type": "code",
   "execution_count": 18,
   "metadata": {},
   "outputs": [
    {
     "name": "stdout",
     "output_type": "stream",
     "text": [
      "15*x^5 + 19*x^4 + 9*x^3 + 12*x^2 + 8*x + 15\n",
      "29\n",
      "('Lunicite du polynome trouve z est verifiee ', 1)\n"
     ]
    }
   ],
   "source": [
    "# Puisque la condition du lemme 1 n'est pas vérifiée pour a et b alors a > deg(Pm)\n",
    "Liste_g = []\n",
    "Pm_degree = 3\n",
    "c=0\n",
    "for i in range(Pm_degree,30):\n",
    "    R = ZZ['x']\n",
    "    x = R.gen()\n",
    "    g = x**i\n",
    "    Liste_g.append(g.quo_rem(ppb)[1])\n",
    "    z= g.quo_rem(ppb)[1]\n",
    "    if z(M)== A :\n",
    "        print(z)\n",
    "        print(i)\n",
    "        c=c+1\n",
    "\n",
    "if c==1 : \n",
    "    print('Lunicite du polynome trouve z est verifiee ', c) \n",
    "\n",
    "\n",
    "\n",
    "    "
   ]
  },
  {
   "cell_type": "code",
   "execution_count": 19,
   "metadata": {},
   "outputs": [
    {
     "name": "stdout",
     "output_type": "stream",
     "text": [
      "[19  5 28]\n",
      "[ 8  9 18]\n",
      "[16 10 18]\n",
      "Décryptage réussi !\n"
     ]
    }
   ],
   "source": [
    "print(z(B))\n",
    "if z(B) == M^a_fois_b:\n",
    "    print('Décryptage réussi !')"
   ]
  },
  {
   "cell_type": "markdown",
   "metadata": {},
   "source": [
    "### De même, peut-on trouver un ensemble dematrices le plus petit possible qui contienne le secret commun lorsque $p = 29$ "
   ]
  },
  {
   "cell_type": "code",
   "execution_count": 20,
   "metadata": {},
   "outputs": [
    {
     "name": "stdout",
     "output_type": "stream",
     "text": [
      "(x^2 + 17*x + 6, x^2 + 27*x + 5, x^2 + 6*x + 25)\n"
     ]
    }
   ],
   "source": [
    "M= Mp.matrix([5,1,2,26,23,3,16,21,20])\n",
    "A = Mp.matrix([6,24,19,15,3,14,7,11,18])\n",
    "B= Mp.matrix([7,19,9,1,1,28,14,22,2])\n",
    "Pm=M.minimal_polynomial()\n",
    "Pa=A.minimal_polynomial()\n",
    "Pb=B.minimal_polynomial()\n",
    "\n",
    "print(Pm,Pa,Pb)\n"
   ]
  },
  {
   "cell_type": "markdown",
   "metadata": {},
   "source": [
    "### Test lemme 1 :"
   ]
  },
  {
   "cell_type": "code",
   "execution_count": 22,
   "metadata": {},
   "outputs": [
    {
     "name": "stdout",
     "output_type": "stream",
     "text": [
      "('a = ', 13)\n",
      "('a = ', 27)\n",
      " Lemme 1 non verifié\n"
     ]
    }
   ],
   "source": [
    "#Pour A :\n",
    "for i in range (0,30):\n",
    "    if M^i == A:\n",
    "        a =i\n",
    "        print('a = ',a)\n",
    "if a < Pm.degree():\n",
    "    print \" f = X^a\"\n",
    "else:\n",
    "    print \" Lemme 1 non verifié\""
   ]
  },
  {
   "cell_type": "code",
   "execution_count": 23,
   "metadata": {},
   "outputs": [
    {
     "name": "stdout",
     "output_type": "stream",
     "text": [
      "('b = ', 12)\n",
      "('b = ', 26)\n",
      " Lemme 1 non verifié\n"
     ]
    }
   ],
   "source": [
    "#Pour B :\n",
    "for i in range (0,30):\n",
    "    if M^i == B:\n",
    "        b =i\n",
    "        print('b = ', b)\n",
    "if b < Pm.degree():\n",
    "    print \" f = X^b\"\n",
    "else:\n",
    "    print \" Lemme 1 non verifié\""
   ]
  },
  {
   "cell_type": "markdown",
   "metadata": {},
   "source": [
    "Remarquons que les (a,b) ne sont pas uniques, nous disposons de 4 multiplications possibles pour a*b. Un calcul ultérieur nous montrera que malgrès ces 4 calculs possibles produits le calcul de M^ab donne la meme matrice.."
   ]
  },
  {
   "cell_type": "markdown",
   "metadata": {},
   "source": [
    "### Test lemme 2 :\n"
   ]
  },
  {
   "cell_type": "code",
   "execution_count": 24,
   "metadata": {},
   "outputs": [
    {
     "name": "stdout",
     "output_type": "stream",
     "text": [
      " Lemme 2 non verifié\n"
     ]
    }
   ],
   "source": [
    "#Pour A :\n",
    "r = Pm%Pa\n",
    "if r==0:\n",
    "    print \" f(A) = M^ab\"\n",
    "else:\n",
    "    print \" Lemme 2 non verifié\" "
   ]
  },
  {
   "cell_type": "code",
   "execution_count": 25,
   "metadata": {},
   "outputs": [
    {
     "name": "stdout",
     "output_type": "stream",
     "text": [
      " Lemme 2 non verifié\n"
     ]
    }
   ],
   "source": [
    "#Pour B :\n",
    "r = Pm%Pb\n",
    "if r==0:\n",
    "    print \" f(B) = M^ab\"\n",
    "else:\n",
    "    print \" Lemme 2 non verifié\" "
   ]
  },
  {
   "cell_type": "code",
   "execution_count": 26,
   "metadata": {},
   "outputs": [
    {
     "data": {
      "text/plain": [
       "x^3 + x^2 + 24*x + 20"
      ]
     },
     "execution_count": 26,
     "metadata": {},
     "output_type": "execute_result"
    }
   ],
   "source": [
    "ppb = lcm(Pm,Pb); ppb"
   ]
  },
  {
   "cell_type": "markdown",
   "metadata": {},
   "source": [
    "### Test théorème :\n",
    "\n"
   ]
  },
  {
   "cell_type": "markdown",
   "metadata": {},
   "source": [
    "Nous supposons maitenant que nous ne disposons pas de a et b et nous essaierons de trouver le polynome $\\ g$ tq $\\ A = g(M)$\n",
    "et $\\ M^{ab} = g(B)$ qui est le message commun tant attendu (pour un espion)"
   ]
  },
  {
   "cell_type": "code",
   "execution_count": 28,
   "metadata": {},
   "outputs": [
    {
     "name": "stdout",
     "output_type": "stream",
     "text": [
      "13*x^2 + 13*x + 22\n",
      "13\n",
      "13*x^2 + 13*x + 22\n",
      "27\n",
      "('Lunicite du polynome trouve z est verifiee (meme polynome) ', 2)\n"
     ]
    }
   ],
   "source": [
    "# Puisque la condition du lemme 1 n'est pas vérifiée pour a et b alors a > deg(Pm)\n",
    "Liste_g = []\n",
    "Pm_degree = 3\n",
    "c=0\n",
    "for i in range(Pm_degree,30):\n",
    "    R = ZZ['x']\n",
    "    x = R.gen()\n",
    "    g = x**i\n",
    "    Liste_g.append(g.quo_rem(ppb)[1])\n",
    "    z= g.quo_rem(ppb)[1]\n",
    "    if z(M)== A :\n",
    "        print(z)\n",
    "        print(i)\n",
    "        c=c+1\n",
    "\n",
    "if c==2 : \n",
    "    print('Lunicite du polynome trouve z est verifiee (meme polynome) ', c) \n",
    "\n",
    "\n",
    "\n",
    "\n",
    "    "
   ]
  },
  {
   "cell_type": "code",
   "execution_count": 44,
   "metadata": {},
   "outputs": [
    {
     "name": "stdout",
     "output_type": "stream",
     "text": [
      "[ 7 19  9]\n",
      "[ 1  1 28]\n",
      "[14 22  2]\n",
      "\n",
      "\n",
      "(156, 11)\n",
      "[16 23  0]\n",
      "[ 4 22 22]\n",
      "[12 16 11]\n",
      "\n",
      "\n",
      "(324, 5)\n",
      "[13 27  4]\n",
      "[ 3 14  1]\n",
      "[21 24 22]\n",
      "\n",
      "\n",
      "(338, 19)\n",
      "[11 25 20]\n",
      "[11 10 12]\n",
      "[ 6 17  3]\n",
      "\n",
      "\n",
      "(702, 6)\n",
      "[ 0  1 25]\n",
      "[17  0 22]\n",
      "[10 27 24]\n",
      "Décryptage tenu à lechec !\n"
     ]
    }
   ],
   "source": [
    "p=29\n",
    "Zp=Zmod(p)\n",
    "print(z(B))\n",
    "c=0\n",
    "for i in [12*13,12*27,26*13,26*27]:\n",
    "    print(\"\\n\")\n",
    "    print(i, Zp(i))\n",
    "    print(M^i)\n",
    "    if z(M^i)==z(B):\n",
    "        c=1\n",
    "\n",
    "if c==Zp(1):\n",
    "    print('Décryptage réussi !')\n",
    "else :\n",
    "    print('Décryptage tenu à lechec !')"
   ]
  },
  {
   "cell_type": "markdown",
   "metadata": {},
   "source": [
    "Nous avons trouvé un cas de figure où l'ensemble des matrices trouvées ne comprennent pas le message commun. Ceci était attendu vu que la fonction retrouvée peut vérifier g(M)=A et ne pas vérifier g(B)=M^ab (les fonctions polyomiales peuvent coincider dans un nombre de points inferieurs à leurs degres sans pour autant etre égales)."
   ]
  },
  {
   "cell_type": "markdown",
   "metadata": {},
   "source": [
    "### Quel est l’ordre de la matrice de $GLn(F29)$ suivante \n"
   ]
  },
  {
   "cell_type": "markdown",
   "metadata": {},
   "source": [
    "Afin de déterminer l'ordre de la matrice donnée, nous allons utiliser l'équation (3) de la propostion 1. Ainsi, nous allons :\n",
    "\n",
    "1 - déterminer le polynome minimal Pm, le factoriser et identifier ses racines dans Zp\n",
    "\n",
    "2 - déterminer le ppcm des ordres de ces racines\n",
    "\n",
    "3 - retrouver le réel tau vérifiant l'inégalité, nous allons procéder à l'implementation de l'algorithme de la dichotomie cependant, cette démarche ne nous livre pas l'unicité du réel tau. \n",
    "\n",
    "En conséquence, un petite reflexion suivant le raisonnement par recherche et synthèse nous invite à trouver un réel tau tq : p^tau est un naturel (le plus proche possible) et lancer une boucle qui nous permet de tester ord(M) suivant l'équation (3).\n",
    "\n",
    "(Résultat final : $ord(M) = 140$)\n"
   ]
  },
  {
   "cell_type": "code",
   "execution_count": 1,
   "metadata": {},
   "outputs": [],
   "source": [
    "import numpy as np"
   ]
  },
  {
   "cell_type": "code",
   "execution_count": 34,
   "metadata": {},
   "outputs": [
    {
     "data": {
      "text/plain": [
       "x^3 + 19*x^2 + 9*x + 8"
      ]
     },
     "execution_count": 34,
     "metadata": {},
     "output_type": "execute_result"
    }
   ],
   "source": [
    "M = Mp.matrix([8,26,0,2,11,11,6,8,20])\n",
    "Pm=M.minimal_polynomial();Pm"
   ]
  },
  {
   "cell_type": "code",
   "execution_count": 37,
   "metadata": {},
   "outputs": [
    {
     "data": {
      "text/plain": [
       "(x + 2) * (x^2 + 17*x + 4)"
      ]
     },
     "execution_count": 37,
     "metadata": {},
     "output_type": "execute_result"
    }
   ],
   "source": [
    "Pm.factor()"
   ]
  },
  {
   "cell_type": "code",
   "execution_count": 38,
   "metadata": {},
   "outputs": [
    {
     "data": {
      "text/plain": [
       "[(27, 1)]"
      ]
     },
     "execution_count": 38,
     "metadata": {},
     "output_type": "execute_result"
    }
   ],
   "source": [
    "Pm.roots()"
   ]
  },
  {
   "cell_type": "code",
   "execution_count": 43,
   "metadata": {},
   "outputs": [],
   "source": [
    "root=Zp(27)\n",
    "ordre=root.multiplicative_order()"
   ]
  },
  {
   "cell_type": "code",
   "execution_count": 99,
   "metadata": {},
   "outputs": [],
   "source": [
    "def f(x):\n",
    "    return ln(29)*x\n",
    "def g(x):\n",
    "    return f(x-1)\n",
    "    \n",
    "def Dichotomie(h,k,a,b,e):\n",
    "    debut = a\n",
    "    fin = b\n",
    "    #calcul de la longueur de [a,b]\n",
    "    ecart = b-a\n",
    "    while ecart > e:\n",
    "        #calcul du milieu\n",
    "        m = (debut+fin)/2\n",
    "        if h(m) >= k and h(m-1) < k:\n",
    "            #la solution est inférieure à m\n",
    "            fin = m    \n",
    "        else:\n",
    "            #la solution est supérieure à m\n",
    "            debut = m\n",
    "        print(m)\n",
    "        ecart = fin-debut\n",
    "    return m"
   ]
  },
  {
   "cell_type": "code",
   "execution_count": 146,
   "metadata": {},
   "outputs": [
    {
     "data": {
      "text/plain": [
       "[0.0,\n",
       " 0.001001001001001001,\n",
       " 0.002002002002002002,\n",
       " 0.2062062062062062,\n",
       " 0.2072072072072072,\n",
       " 0.3263263263263263,\n",
       " 0.4124124124124124,\n",
       " 0.47847847847847846,\n",
       " 0.5325325325325325,\n",
       " 0.6176176176176176,\n",
       " 0.6526526526526526,\n",
       " 0.7617617617617618,\n",
       " 0.7837837837837838,\n",
       " 0.955955955955956,\n",
       " 1.0]"
      ]
     },
     "execution_count": 146,
     "metadata": {},
     "output_type": "execute_result"
    }
   ],
   "source": [
    "potential_tau = []\n",
    "for tau in np.linspace(0,1,1000):\n",
    "    if 29**(tau) - int(29**(tau)) <= 10**(-2):\n",
    "        potential_tau.append(tau)\n",
    "potential_tau"
   ]
  },
  {
   "cell_type": "code",
   "execution_count": 148,
   "metadata": {},
   "outputs": [
    {
     "name": "stdout",
     "output_type": "stream",
     "text": [
      "140\n",
      "700\n"
     ]
    }
   ],
   "source": [
    "identity = Mp.matrix([1,0,0,0,1,0,0,0,1])\n",
    "\n",
    "for e in potential_tau[1:]:\n",
    "    ordre_m=int(p^e)*ordre\n",
    "    if M^ordre_m == identity:\n",
    "        print(ordre_m)"
   ]
  },
  {
   "cell_type": "code",
   "execution_count": 56,
   "metadata": {},
   "outputs": [
    {
     "data": {
      "text/plain": [
       "140"
      ]
     },
     "execution_count": 56,
     "metadata": {},
     "output_type": "execute_result"
    }
   ],
   "source": [
    "M.multiplicative_order()"
   ]
  },
  {
   "cell_type": "markdown",
   "metadata": {},
   "source": [
    "### Le cout du calcul des valeurs propres de La matrice M"
   ]
  },
  {
   "cell_type": "markdown",
   "metadata": {},
   "source": [
    "La plupart des algorithmes de calcul des valeurs propres d'une matrice proposent une complexité de O(n^3).\n",
    "Or, pour notre cas la matrice M est assez particulière. On trouve que les valeurs propres de M sont données directement par la relation ci-dessous :"
   ]
  },
  {
   "cell_type": "markdown",
   "metadata": {},
   "source": [
    "${\\displaystyle \\lambda _{j}=c_{0}+c_{n-1}\\omega ^{j}+c_{n-2}\\omega ^{2j}+\\ldots +c_{1}\\omega ^{(n-1)j},\\quad j=0,1,\\ldots ,n-1.}$"
   ]
  },
  {
   "cell_type": "markdown",
   "metadata": {},
   "source": [
    "D'ou la complexité du calcul des valeurs propres de M est *quadratique*"
   ]
  },
  {
   "cell_type": "code",
   "execution_count": 156,
   "metadata": {},
   "outputs": [
    {
     "data": {
      "text/plain": [
       "[1 8 5]\n",
       "[5 1 8]\n",
       "[8 5 1]"
      ]
     },
     "execution_count": 156,
     "metadata": {},
     "output_type": "execute_result"
    }
   ],
   "source": [
    "T=Mp.matrix([1,8,5,5,1,8,8,5,1]);T"
   ]
  },
  {
   "cell_type": "code",
   "execution_count": 159,
   "metadata": {},
   "outputs": [
    {
     "data": {
      "text/plain": [
       "25"
      ]
     },
     "execution_count": 159,
     "metadata": {},
     "output_type": "execute_result"
    }
   ],
   "source": [
    "T.determinant()"
   ]
  },
  {
   "cell_type": "code",
   "execution_count": 162,
   "metadata": {},
   "outputs": [],
   "source": [
    "Pt = T.characteristic_polynomial()"
   ]
  },
  {
   "cell_type": "code",
   "execution_count": 163,
   "metadata": {},
   "outputs": [
    {
     "data": {
      "text/plain": [
       "(x + 15) * (x^2 + 11*x + 8)"
      ]
     },
     "execution_count": 163,
     "metadata": {},
     "output_type": "execute_result"
    }
   ],
   "source": [
    "Pt.factor()"
   ]
  },
  {
   "cell_type": "code",
   "execution_count": 164,
   "metadata": {},
   "outputs": [
    {
     "data": {
      "text/plain": [
       "[(14, 1)]"
      ]
     },
     "execution_count": 164,
     "metadata": {},
     "output_type": "execute_result"
    }
   ],
   "source": [
    "Pt.roots()"
   ]
  },
  {
   "cell_type": "markdown",
   "metadata": {},
   "source": [
    "### Remarque :\n",
    "Il est difficile de calculer les valeurs propres de M, car les built-in méthodes ne sont pas concues à travailler avec les matrices à coefficients dans Fp."
   ]
  },
  {
   "cell_type": "markdown",
   "metadata": {},
   "source": [
    "<a id=\"5\"></a> <br>\n",
    "<left> <h1 style=\"color: #1E3EC6\"> <FONT face=\"Times New Roman\" size=\"5\"> <u> Complexité des operations </u> </FONT><left>"
   ]
  },
  {
   "cell_type": "markdown",
   "metadata": {},
   "source": [
    "##### Section 2 : "
   ]
  },
  {
   "cell_type": "markdown",
   "metadata": {},
   "source": [
    "Notre hypothèse stipule que : $\\ deg(\\Pi_M <\\ a,b <\\ p$ ainsi il faut tester tout les $\\ i \\in [deg(\\Pi_M,p]$\n",
    "\n",
    "$\\ g_i := Reste(X^i,P_B) \\\\\n",
    "g_2 := Reste(X^i,P_A)$\n",
    "\n",
    "Ainsi la complexité du calcul du theorème 1 est :\n",
    "\n",
    "$\\Theta ((p-deg(\\Pi_M))^2.min(deg(P_A,deg(P_B)))$"
   ]
  },
  {
   "cell_type": "markdown",
   "metadata": {},
   "source": [
    "##### Section 3 : "
   ]
  },
  {
   "cell_type": "markdown",
   "metadata": {},
   "source": [
    "Nous detaillerons dans ce qui suit les étapes intermédiaires pour le calcul de $'ord(M)'$ et leur complexité \n",
    "\n",
    "• Calculer pôlynome minimal en utilisant l'algorithme de Wiedemam $\\implies \\Theta(n^3)$ ; $\\ n = taille(M)$\n",
    "\n",
    "• Décomposer en facteurs irréductibles en utilisant l'algorithme de Berlekamp $\\implies \\Theta(n^3)$ ; $\\ n = taille(\\Pi_M)$\n",
    "\n",
    "• Calcul de l'ordre des racines \n",
    "\n",
    "• Calcul du ppcm des ordres à l'aide de l'algorithme d'Euclide $\\implies \\Theta(n^3)$ ; $\\ n = cardinal(racines)$\n",
    "\n",
    "• Retrouver $\\tau$, vérifiant $\\ p^{\\tau - 1} \\le max \\le p^\\tau $ \n",
    "\n",
    "Ainsi la complexité générale de cette proposition est cubique en la taille de la matrice M ."
   ]
  },
  {
   "cell_type": "markdown",
   "metadata": {},
   "source": [
    "<center> <h1 style=\"color: #1E3EC6\"> <FONT face=\"Times New Roman\" size=\"5\"> <u> Fin </u> </FONT><center>"
   ]
  }
 ],
 "metadata": {
  "kernelspec": {
   "display_name": "SageMath 8.9",
   "language": "sage",
   "name": "sagemath"
  },
  "language_info": {
   "codemirror_mode": {
    "name": "ipython",
    "version": 2
   },
   "file_extension": ".py",
   "mimetype": "text/x-python",
   "name": "python",
   "nbconvert_exporter": "python",
   "pygments_lexer": "ipython2",
   "version": "2.7.15"
  }
 },
 "nbformat": 4,
 "nbformat_minor": 2
}
